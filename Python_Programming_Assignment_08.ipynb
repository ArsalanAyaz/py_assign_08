{
  "nbformat": 4,
  "nbformat_minor": 0,
  "metadata": {
    "colab": {
      "provenance": [],
      "authorship_tag": "ABX9TyNaK3W7dtskWzE/4oNQdDC9",
      "include_colab_link": true
    },
    "kernelspec": {
      "name": "python3",
      "display_name": "Python 3"
    },
    "language_info": {
      "name": "python"
    }
  },
  "cells": [
    {
      "cell_type": "markdown",
      "metadata": {
        "id": "view-in-github",
        "colab_type": "text"
      },
      "source": [
        "<a href=\"https://colab.research.google.com/github/ArsalanAyaz/py_assign_08/blob/main/Python_Programming_Assignment_08.ipynb\" target=\"_parent\"><img src=\"https://colab.research.google.com/assets/colab-badge.svg\" alt=\"Open In Colab\"/></a>"
      ]
    },
    {
      "cell_type": "markdown",
      "source": [
        "**Muhammad Arsalan Ayaz Azhar** <br>\n",
        "**Roll No. 200939***"
      ],
      "metadata": {
        "id": "w1PItC5R0ofw"
      }
    },
    {
      "cell_type": "markdown",
      "source": [
        "#**Python Programming Assignment 08**"
      ],
      "metadata": {
        "id": "ZHAhzSQl0L1e"
      }
    },
    {
      "cell_type": "markdown",
      "source": [
        "## **Water Bucket Puzzle**\n",
        "\n",
        "### **Problem Statement:**\n",
        "\n",
        "In this puzzle game, you must use three buckets (three-liter, five-liter, and eight-liter buckets) to collect exactly four liters of water in one of the buckets. Buckets can only be emptied, completely filled, or poured into another bucket. For example, you can fill the five-liter bucket and then pour its contents into the three-liter bucket, leaving you with a full three-liter bucket and two liters of water in the five-liter bucket.\n",
        "\n",
        "With some effort, you should be able to solve the puzzle. But can you figure out how to solve it with the minimal number of moves?"
      ],
      "metadata": {
        "id": "dJ1Umf-q0dBu"
      }
    },
    {
      "cell_type": "markdown",
      "source": [],
      "metadata": {
        "id": "zlttJTJwz4DG"
      }
    },
    {
      "cell_type": "markdown",
      "source": [],
      "metadata": {
        "id": "kRDJYJe90HDe"
      }
    },
    {
      "cell_type": "code",
      "execution_count": null,
      "metadata": {
        "id": "5NzzUCWez3Cy"
      },
      "outputs": [],
      "source": [
        "# Initialize the capacities and current amounts in each bucket\n",
        "bucket_capacities = {\"8\": 8, \"5\": 5, \"3\": 3}\n",
        "bucket_amounts = {\"8\": 0, \"5\": 0, \"3\": 0}"
      ]
    },
    {
      "cell_type": "code",
      "source": [
        "# Display function to show current status of buckets\n",
        "def display_buckets():\n",
        "    print(\"Current state of buckets:\")\n",
        "    for bucket, capacity in bucket_capacities.items():\n",
        "        amount = bucket_amounts[bucket]\n",
        "        print(f\"{bucket}L bucket: {'W' * amount + ' ' * (capacity - amount)} ({amount}L)\")\n",
        "    print()"
      ],
      "metadata": {
        "id": "_Ifisfm106Nu"
      },
      "execution_count": null,
      "outputs": []
    },
    {
      "cell_type": "code",
      "source": [
        "# Fill a bucket to its full capacity\n",
        "def fill(bucket):\n",
        "    bucket_amounts[bucket] = bucket_capacities[bucket]\n",
        "    print(f\"Filled {bucket}L bucket.\")"
      ],
      "metadata": {
        "id": "BH-ujxlf0-PW"
      },
      "execution_count": null,
      "outputs": []
    },
    {
      "cell_type": "code",
      "source": [
        "# Empty a bucket completely\n",
        "def empty(bucket):\n",
        "    bucket_amounts[bucket] = 0\n",
        "    print(f\"Emptied {bucket}L bucket.\")"
      ],
      "metadata": {
        "id": "DNh7ZEYJ1EZe"
      },
      "execution_count": null,
      "outputs": []
    },
    {
      "cell_type": "code",
      "source": [
        "# Pour water from one bucket into another\n",
        "def pour(from_bucket, to_bucket):\n",
        "    available_to_pour = bucket_amounts[from_bucket]\n",
        "    available_space = bucket_capacities[to_bucket] - bucket_amounts[to_bucket]\n",
        "    amount_to_pour = min(available_to_pour, available_space)\n",
        "\n",
        "    bucket_amounts[from_bucket] -= amount_to_pour\n",
        "    bucket_amounts[to_bucket] += amount_to_pour\n",
        "    print(f\"Poured {amount_to_pour}L from {from_bucket}L bucket to {to_bucket}L bucket.\")"
      ],
      "metadata": {
        "id": "jbRlJaud1HbI"
      },
      "execution_count": null,
      "outputs": []
    },
    {
      "cell_type": "code",
      "source": [
        "# Main function to run the puzzle game\n",
        "def water_bucket_puzzle():\n",
        "    print(\"Welcome to the Water Bucket Puzzle!\")\n",
        "    print(\"Goal: Get exactly 4L of water in one of the buckets.\\n\")\n",
        "\n",
        "    while True:\n",
        "        display_buckets()\n",
        "\n",
        "        # Check for the winning condition\n",
        "        if any(amount == 4 for amount in bucket_amounts.values()):\n",
        "            print(\"Congratulations! You have achieved 4L of water in one of the buckets.\")\n",
        "            break\n",
        "\n",
        "        # Prompt user for an action\n",
        "        action = input(\"Choose an action (F)ill, (E)mpty, (P)our, or (Q)uit: \").lower()\n",
        "        if action == \"q\":\n",
        "            print(\"Thanks for playing!\")\n",
        "            break\n",
        "        elif action in [\"f\", \"e\", \"p\"]:\n",
        "            # Select the bucket(s)\n",
        "            from_bucket = input(\"Select a bucket (8, 5, 3): \")\n",
        "            if from_bucket not in bucket_amounts:\n",
        "                print(\"Invalid bucket selection. Please choose 8, 5, or 3.\")\n",
        "                continue\n",
        "\n",
        "            # Perform the chosen action\n",
        "            if action == \"f\":\n",
        "                fill(from_bucket)\n",
        "            elif action == \"e\":\n",
        "                empty(from_bucket)\n",
        "            elif action == \"p\":\n",
        "                to_bucket = input(\"Select the bucket to pour into (8, 5, 3): \")\n",
        "                if to_bucket not in bucket_amounts or to_bucket == from_bucket:\n",
        "                    print(\"Invalid pour destination.\")\n",
        "                    continue\n",
        "                pour(from_bucket, to_bucket)\n",
        "        else:\n",
        "            print(\"Invalid action. Please enter F, E, P, or Q.\")"
      ],
      "metadata": {
        "id": "9-RD1_vu1NTW"
      },
      "execution_count": null,
      "outputs": []
    },
    {
      "cell_type": "code",
      "source": [
        "# Run the puzzle game\n",
        "water_bucket_puzzle()"
      ],
      "metadata": {
        "colab": {
          "base_uri": "https://localhost:8080/"
        },
        "id": "_NySHQYX1hZm",
        "outputId": "9cec363d-10a4-4b7b-c986-ae7a9e98ac5e"
      },
      "execution_count": null,
      "outputs": [
        {
          "output_type": "stream",
          "name": "stdout",
          "text": [
            "Welcome to the Water Bucket Puzzle!\n",
            "Goal: Get exactly 4L of water in one of the buckets.\n",
            "\n",
            "Current state of buckets:\n",
            "8L bucket:          (0L)\n",
            "5L bucket:       (0L)\n",
            "3L bucket:     (0L)\n",
            "\n",
            "Choose an action (F)ill, (E)mpty, (P)our, or (Q)uit: f\n",
            "Select a bucket (8, 5, 3): 5\n",
            "Filled 5L bucket.\n",
            "Current state of buckets:\n",
            "8L bucket:          (0L)\n",
            "5L bucket: WWWWW (5L)\n",
            "3L bucket:     (0L)\n",
            "\n",
            "Choose an action (F)ill, (E)mpty, (P)our, or (Q)uit: e\n",
            "Select a bucket (8, 5, 3): 3\n",
            "Emptied 3L bucket.\n",
            "Current state of buckets:\n",
            "8L bucket:          (0L)\n",
            "5L bucket: WWWWW (5L)\n",
            "3L bucket:     (0L)\n",
            "\n",
            "Choose an action (F)ill, (E)mpty, (P)our, or (Q)uit: p\n",
            "Select a bucket (8, 5, 3): 5\n",
            "Select the bucket to pour into (8, 5, 3): 3\n",
            "Poured 3L from 5L bucket to 3L bucket.\n",
            "Current state of buckets:\n",
            "8L bucket:          (0L)\n",
            "5L bucket: WW    (2L)\n",
            "3L bucket: WWW (3L)\n",
            "\n",
            "Choose an action (F)ill, (E)mpty, (P)our, or (Q)uit: e\n",
            "Select a bucket (8, 5, 3): 8\n",
            "Emptied 8L bucket.\n",
            "Current state of buckets:\n",
            "8L bucket:          (0L)\n",
            "5L bucket: WW    (2L)\n",
            "3L bucket: WWW (3L)\n",
            "\n",
            "Choose an action (F)ill, (E)mpty, (P)our, or (Q)uit: q\n",
            "Thanks for playing!\n"
          ]
        }
      ]
    }
  ]
}